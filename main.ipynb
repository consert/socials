{
 "cells": [
  {
   "cell_type": "code",
   "execution_count": 1,
   "metadata": {
    "pycharm": {
     "name": "#%%\n"
    }
   },
   "outputs": [],
   "source": [
    "import os\n",
    "import sys\n",
    "from IPython.display import Image\n",
    "try:\n",
    "    from .socials import SocialNetwork, LinkedIn, Instagram, Facebook, Twitter, Mastodon\n",
    "except ImportError:\n",
    "    try:\n",
    "        # if in jupyter notebook, this throws NameError (no __file__)\n",
    "        sys.path.append(os.path.realpath(os.path.dirname(__file__)))\n",
    "        from socials import SocialNetwork, LinkedIn, Instagram, Facebook, Twitter, Mastodon\n",
    "    except (NameError, Exception) as e:\n",
    "        sys.path.append(os.path.realpath(os.path.dirname('.')))\n",
    "        from socials import SocialNetwork, LinkedIn, Instagram, Facebook, Twitter, Mastodon\n",
    "debug = True"
   ]
  },
  {
   "cell_type": "code",
   "execution_count": 2,
   "outputs": [],
   "source": [
    "one_image_url = \"https://picsum.photos/1024/1024\"\n",
    "one_post_message = (\n",
    "    \"U.S. reports 97,000 new coronavirus cases, biggest one-day increase on record\"\n",
    ")\n",
    "one_post_url = \"https://www.reddit.com/r/Coronavirus/comments/jl7cr7/us_reports_97000_new_coronavirus_cases_biggest/\""
   ],
   "metadata": {
    "collapsed": false,
    "pycharm": {
     "name": "#%%\n"
    }
   }
  },
  {
   "cell_type": "code",
   "execution_count": 3,
   "outputs": [
    {
     "name": "stdout",
     "output_type": "stream",
     "text": [
      "Image successfully saved: /tmp/a_random_image.jpeg\n"
     ]
    },
    {
     "data": {
      "image/jpeg": "[encoded data removed]",
      "text/plain": "<IPython.core.display.Image object>"
     },
     "execution_count": 3,
     "metadata": {},
     "output_type": "execute_result"
    }
   ],
   "source": [
    "sn = SocialNetwork(debug=debug)\n",
    "# local_media_path = sn.download_media(\n",
    "#     one_image_url, name=\"a_random_image\", destination_dir=os.path.realpath(\".\"),\n",
    "# )\n",
    "# temp dir, smaller image\n",
    "local_media_path = sn.download_media(\n",
    "    \"https://picsum.photos/300\", name=\"a_random_image\",\n",
    ")\n",
    "Image(filename=local_media_path)"
   ],
   "metadata": {
    "collapsed": false,
    "pycharm": {
     "name": "#%%\n"
    }
   }
  },
  {
   "cell_type": "code",
   "execution_count": 4,
   "outputs": [],
   "source": [
    "mastodon = Mastodon(debug=debug)\n",
    "# toot = mastodon.post(text=one_post_message)\n",
    "# print(toot)\n",
    "# toot = mastodon.post(text=one_post_message, url=one_post_url)\n",
    "# print(toot)\n",
    "# toot = mastodon.post(text=one_post_message, media=one_image_url)\n",
    "# print(toot)"
   ],
   "metadata": {
    "collapsed": false,
    "pycharm": {
     "name": "#%%\n"
    }
   }
  },
  {
   "cell_type": "code",
   "execution_count": 5,
   "outputs": [
    {
     "name": "stdout",
     "output_type": "stream",
     "text": [
      "Initialized\n"
     ]
    }
   ],
   "source": [
    "linkedin = LinkedIn(debug=debug)\n",
    "# linkedin.post(text=one_post_message)\n",
    "# linkedin.post(text=one_post_message, url=one_post_url)\n",
    "# linkedin.post(text=\"A nice picture\", media=one_image_url)"
   ],
   "metadata": {
    "collapsed": false,
    "pycharm": {
     "name": "#%%\n"
    }
   }
  },
  {
   "cell_type": "code",
   "execution_count": 6,
   "outputs": [
    {
     "name": "stdout",
     "output_type": "stream",
     "text": [
      "Initialized\n",
      "{'data': [{'name': \"McDonald's\", 'checkins': 188183, 'website': 'https://www.mcdonalds.com/', 'location': {'city': 'Downey', 'country': 'United States', 'latitude': 33.9471, 'longitude': -118.1182, 'state': 'CA'}, 'id': '1155726107773264'}, {'name': 'McDonalds Al Saad', 'checkins': 31115, 'website': 'http://www.mcdonaldsarabia.com/qatar/en/home.html', 'location': {'city': 'Doha', 'country': 'Qatar', 'latitude': 25.27639, 'longitude': 51.507915906281, 'street': 'AL Sadd'}, 'id': '206001939431606'}, {'name': 'Mcdonalds Islamabad F9', 'checkins': 19125, 'website': 'http://www.mcdonalds.com.pk/', 'location': {'city': 'Islamabad', 'country': 'Pakistan', 'latitude': 33.691609437425, 'longitude': 73.019335345606, 'street': 'F-9 Park'}, 'id': '432921787087268'}, {'name': 'Mcdonalds Naic', 'checkins': 1233, 'location': {'city': 'Naic', 'country': 'Philippines', 'latitude': 14.322182400111, 'longitude': 120.77148459998}, 'id': '144124249778154'}, {'name': 'McDonalds', 'checkins': 2048, 'website': 'http://www.mcdonaldsindia.com/', 'location': {'city': 'Mumbai', 'country': 'India', 'latitude': 18.97306901, 'longitude': 72.82751189}, 'id': '118829214894018'}, {'name': 'McDonalds Cuernavaca', 'checkins': 2317, 'website': 'mcdonaldscuerna.com', 'location': {'city': 'Cuernavaca', 'country': 'Mexico', 'latitude': 18.922180093151, 'longitude': -99.234366285494, 'street': 'Ancla 4, Av. Poder Legislativo s/n, Lomas de la Selva', 'zip': '62000'}, 'id': '1654688708089456'}, {'name': 'Mcdonalds Main Bouleward Gulberg, lahore.', 'checkins': 1071, 'location': {'city': 'Lahore', 'country': 'Pakistan', 'latitude': 31.5497, 'longitude': 74.3436, 'zip': '54000'}, 'id': '923133607756410'}, {'name': 'McDonalds', 'checkins': 43134, 'website': 'mcdonalds.com.pk', 'location': {'city': 'Islamabad', 'country': 'Pakistan', 'latitude': 33.691631562579, 'located_in': '209965122363555', 'longitude': 73.019491309458, 'street': 'Jinnah Park', 'zip': '44000'}, 'id': '187856647924746'}, {'name': \"McDonald's\", 'checkins': 159382, 'website': 'http://www.mcdonalds.ro', 'location': {'city': 'Bucharest', 'country': 'Romania', 'latitude': 44.42842089909, 'located_in': '743825075672106', 'longitude': 26.104121083554, 'street': 'Piata Unirii, nr.1, sector 3, Bucuresti'}, 'id': '193817747324490'}, {'name': 'McDonalds Alberton', 'checkins': 11377, 'website': 'www.mcdonalds.com', 'location': {'city': 'Alberton', 'country': 'South Africa', 'latitude': -26.271475339, 'longitude': 28.120858285, 'street': '45 Cnr Rae Frankel St & Hennie Alberts St', 'zip': '1449'}, 'id': '206354556042138'}, {'name': 'Mcdonalds Vermosa', 'checkins': 2692, 'location': {'city': 'Bacoor', 'country': 'Philippines', 'latitude': 14.381283785606, 'longitude': 120.95763877861, 'street': 'Vermosa'}, 'id': '100194841403074'}, {'name': 'Mcdonalds Palawan', 'checkins': 30443, 'website': 'http://www.mcdonalds.com.ph/', 'location': {'city': 'Puerto Princesa', 'country': 'Philippines', 'latitude': 9.740176038173, 'longitude': 118.73938611237, 'street': 'Rizal Avenue', 'zip': '5300'}, 'id': '442882122433494'}, {'name': 'Mcdonalds Abbottabad', 'checkins': 5655, 'location': {'city': 'Tirana', 'country': 'Pakistan', 'latitude': 34.238514878965, 'longitude': 73.237202518119, 'street': 'Neelay Pare, Mansehra Road Abbotabad'}, 'id': '328453667988209'}, {'name': 'Mcdonalds Saipan, Chalan Laulau, Saipan USA', 'checkins': 4151, 'website': 'https://www.mcdonalds.com', 'location': {'city': 'Saipan', 'country': 'Northern Mariana Islands', 'latitude': 15.17400126001, 'longitude': 145.71871980002, 'state': 'Northern Mariana Islands', 'street': 'Middle Rd', 'zip': '96950'}, 'id': '416564285065568'}, {'name': 'McDonalds', 'checkins': 4966, 'website': 'http://www.mcdonalds.co.uk/', 'location': {'city': 'London', 'country': 'United Kingdom', 'latitude': 51.56506413634, 'longitude': 0.10376490043344, 'street': '700 High Road', 'zip': 'IG38'}, 'id': '147357528633594'}, {'name': 'Mcdonalds Panabo', 'checkins': 5485, 'location': {'city': 'Panabo', 'country': 'Philippines', 'latitude': 7.3068005834677, 'longitude': 125.68273590041}, 'id': '1671992652831744'}, {'name': \"McDonald's\", 'checkins': 120042, 'website': 'https://www.mcdonalds.com/us/en-us/location/FL/ORLANDO/6875-SANDLAKE-RD/3896.html?cid=RF%3AYXT%3AFB%3A%3AClicks', 'location': {'city': 'Orlando', 'country': 'United States', 'latitude': 28.450397357289, 'longitude': -81.471245884895, 'state': 'FL', 'street': '6875 Sandlake Rd', 'zip': '32819'}, 'id': '1337036873000407'}, {'name': 'McDonalds', 'checkins': 2509, 'website': 'http://www.mcd.lt/lt', 'location': {'city': 'Klaipeda', 'country': 'Lithuania', 'latitude': 55.69197425, 'longitude': 21.15411822647, 'street': 'Taikos pr. 61C'}, 'id': '137823279620256'}, {'name': 'Mcdonalds Bogo Cebu', 'checkins': 13039, 'website': 'https://mcdonalds.com.ph/', 'location': {'city': 'Bogo', 'country': 'Philippines', 'latitude': 11.048701097718, 'longitude': 124.00433919737, 'street': 'Bogo City'}, 'id': '353263335025749'}, {'name': 'Mcdonalds Old Souk Salmiya', 'checkins': 7019, 'location': {'city': 'Salmiya', 'country': 'Kuwait', 'latitude': 29.332914152277, 'longitude': 48.05495425241}, 'id': '404146913023881'}, {'name': 'McDonalds, Playa de Tanger', 'checkins': 18108, 'website': 'http://www.mcdonalds.ma', 'location': {'city': 'Tangier', 'country': 'Morocco', 'latitude': 35.774997485475, 'longitude': -5.7881058182379, 'street': 'Avenue Mohammed VI', 'zip': '90000'}, 'id': '1093826873975440'}, {'name': 'McDonalds (Markhiya)', 'checkins': 16594, 'website': 'http://www.mcdonaldsarabia.com', 'location': {'city': 'Doha', 'country': 'Qatar', 'latitude': 25.321273424354, 'longitude': 51.489612944503, 'street': 'Khalifa St'}, 'id': '215136778496964'}, {'name': 'McDonalds, Southwoods City', 'checkins': 3625, 'location': {'city': 'Binãn', 'country': 'Philippines', 'latitude': 14.332242783463, 'longitude': 121.05104853397, 'street': 'Michigan'}, 'id': '693591637480678'}, {'name': 'Mcdonalds', 'checkins': 16537, 'website': 'http://www.mcdonaldsfiji.com/', 'location': {'city': 'Suva', 'country': 'Fiji', 'latitude': -18.139575993501, 'longitude': 178.42338315787, 'street': 'Corner of Laucala Bay Road'}, 'id': '227881390592458'}, {'name': 'McDonalds,Tagb. City, Bohol', 'checkins': 10856, 'website': 'http://www.mcdonalds.com.ph', 'location': {'city': 'Tagbilaran City', 'country': 'Philippines', 'latitude': 9.6417949528025, 'longitude': 123.8555794124}, 'id': '369528673167875'}], 'paging': {'cursors': {'after': 'MjQZD'}, 'next': 'https://graph.facebook.com/v3.2/search?access_token=EAAKRZApuvgu0BADj3kG3dIojZAqWUjViyqE3ePnzjPvZBGJ3nRSvbaqgpgeDpqfDkwnK3nNRraUyoLloWlGpRQscZBZCZBy1yyuXoSA4BinUb1UEuo5DphDc0JiqJtynq8q1sfxf8YcXTVwyDY17GxY5d4ZAsDPVft3RBWb0d87SbeNCKQau0U8jlVSqmuLsnodLZAYyMFubfhLt1ls6b2Lb&fields=name%2Ccheckins%2Cwebsite%2Clocation&q=McDonalds&type=place&limit=25&after=MjQZD'}, '__debug__': {'messages': [{'link': 'https://developers.facebook.com/docs/apps/versions/', 'message': 'The app tried to call version v3.1. This version has been deprecated, so the request defaulted to version v3.2', 'type': 'warning'}]}}\n"
     ]
    }
   ],
   "source": [
    "facebook = Facebook(debug=debug)  # noqa\n",
    "# # # group\n",
    "# groups_response = facebook.get(id=\"me\", fields=\"groups\")\n",
    "# group_id = None\n",
    "# if groups_response and type(groups_response) == dict:\n",
    "#     my_groups = groups_response.get(\"groups\", {}).get(\"data\", [])  # noqa\n",
    "#     if my_groups:\n",
    "#         group_id = my_groups[0].get(\"id\", None)\n",
    "# # feed\n",
    "# my_feed_items = facebook.get(\n",
    "#     id=facebook.my_id, connection_name=\"feed\", get_all=True\n",
    "# )\n",
    "# if my_feed_items:\n",
    "#     for item in my_feed_items:\n",
    "#         print(item)\n",
    "# search\n",
    "places = facebook.search(\n",
    "    type=\"place\", q=\"McDonalds\", fields=\"name,checkins,website,location\"\n",
    ")\n",
    "print(places)\n",
    "# # post text, include link\n",
    "# if group_id:\n",
    "#     facebook.post(\n",
    "#         parent_object=group_id,\n",
    "#         connection_name=\"feed\",\n",
    "#         text=one_post_message,\n",
    "#         url=one_post_url,\n",
    "#     )\n",
    "#\n",
    "# # upload local image\n",
    "# one_image = facebook.download_media(one_image_url, name=\"a_photo\")\n",
    "# if one_image and os.path.exists(one_image) and os.path.isfile(one_image):\n",
    "#     # upload image to group\n",
    "#     facebook.post(media=one_image, parent_object=group_id)\n",
    "#     os.unlink(one_image)\n",
    "# # upload image from url (downloaded locally and uploaded like above)\n",
    "# facebook.post(media=one_image_url, parent_object=group_id)"
   ],
   "metadata": {
    "collapsed": false,
    "pycharm": {
     "name": "#%%\n"
    }
   }
  },
  {
   "cell_type": "code",
   "execution_count": 7,
   "outputs": [],
   "source": [
    "instagram = Instagram(debug=False)\n",
    "# instagram.post(media=one_image_url)"
   ],
   "metadata": {
    "collapsed": false,
    "pycharm": {
     "name": "#%%\n"
    }
   }
  },
  {
   "cell_type": "code",
   "execution_count": 8,
   "outputs": [
    {
     "name": "stdout",
     "output_type": "stream",
     "text": [
      "Initialized\n"
     ]
    }
   ],
   "source": [
    "twitter = Twitter(debug=debug)\n",
    "# twitter.post(text=one_post_message)"
   ],
   "metadata": {
    "collapsed": false,
    "pycharm": {
     "name": "#%%\n"
    }
   }
  },
  {
   "cell_type": "code",
   "execution_count": null,
   "outputs": [],
   "source": [],
   "metadata": {
    "collapsed": false,
    "pycharm": {
     "name": "#%%\n"
    }
   }
  }
 ],
 "metadata": {
  "kernelspec": {
   "display_name": "Python 3",
   "language": "python",
   "name": "python3"
  },
  "language_info": {
   "codemirror_mode": {
    "name": "ipython",
    "version": 3
   },
   "file_extension": ".py",
   "mimetype": "text/x-python",
   "name": "python",
   "nbconvert_exporter": "python",
   "pygments_lexer": "ipython3",
   "version": "3.8.6"
  }
 },
 "nbformat": 4,
 "nbformat_minor": 4
}