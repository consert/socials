{
 "cells": [
  {
   "cell_type": "code",
   "execution_count": 1,
   "metadata": {},
   "outputs": [
    {
     "name": "stdout",
     "output_type": "stream",
     "text": [
      "SCHOLAR_SOCIAL,SNF_8399\n"
     ]
    }
   ],
   "source": [
    "import os\n",
    "import sys\n",
    "try:\n",
    "    from .Mastodon import Mastodon\n",
    "except ImportError:\n",
    "    try:\n",
    "        # if in jupyter notebook, this throws NameError (no __file__)\n",
    "        sys.path.append(os.path.realpath(os.path.dirname(__file__)))\n",
    "        from Mastodon import Mastodon\n",
    "    except (NameError, Exception) as e:\n",
    "        sys.path.append(os.path.realpath(os.path.dirname('.')))\n",
    "        from Mastodon import Mastodon\n",
    "mastodon = Mastodon(debug=True)"
   ]
  },
  {
   "cell_type": "code",
   "execution_count": null,
   "metadata": {},
   "outputs": [],
   "source": []
  },
  {
   "cell_type": "code",
   "execution_count": null,
   "metadata": {},
   "outputs": [],
   "source": []
  }
 ],
 "metadata": {
  "kernelspec": {
   "display_name": "Python 3",
   "language": "python",
   "name": "python3"
  },
  "language_info": {
   "codemirror_mode": {
    "name": "ipython",
    "version": 3
   },
   "file_extension": ".py",
   "mimetype": "text/x-python",
   "name": "python",
   "nbconvert_exporter": "python",
   "pygments_lexer": "ipython3",
   "version": "3.8.6"
  }
 },
 "nbformat": 4,
 "nbformat_minor": 4
}
